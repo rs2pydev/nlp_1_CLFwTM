{
 "cells": [
  {
   "cell_type": "markdown",
   "metadata": {
    "id": "B9YyQnE2faTU"
   },
   "source": [
    "# Topic Modeling and Classification of Customer Complaints "
   ]
  },
  {
   "cell_type": "markdown",
   "metadata": {
    "id": "ignmGVdLjfo_"
   },
   "source": [
    "## **Table of Contents** \n",
    "\n",
    "1. **Problem Statement** \n",
    "\n",
    "\n",
    "2. **Essential Comments**\n",
    "\n",
    "\n",
    "3. **Import Libraries and Modules** \n",
    "\n",
    "\n",
    "4. **Load JSON Data as Pandas DataFrame** \n",
    "\n",
    "\n",
    "5. **Exploratory Data Analysis and Data Preprocessing**\n",
    "\n",
    "    - 5.1 Data Exploration \n",
    "    - 5.2 Data Exploration Summary\n",
    "    - 5.3 Data Preprocessing\n",
    "    - 5.4 Visualization of Preprocessed Data\n",
    "\n",
    "\n",
    "6. **Topic Modeling with TF-IDF Vectorization and NMF**\n",
    "    \n",
    "    - 6.1 Vectorize Raw Texts to TF-IDF Feature Matrix\n",
    "    - 6.2 Find Optimal Number of Topic with NMF\n",
    "    - 6.3 Manual Topic Modeling with NMF\n",
    "\n",
    "\n",
    "7. **Build Supervised Model to Classify New Complaints**\n",
    "    \n",
    "    - 7.1 Predictive Classifier 1: Multinomial Naive Bayes\n",
    "    - 7.2 Predictive Classifier 2: Logistic Regression\n",
    "    - 7.3 Predictive Classifier 3: Decision Tree\n",
    "    - 7.4 Predictive Classifier 4: Random Forest\n",
    "\n",
    "\n",
    "8. **Conclusions** "
   ]
  },
  {
   "cell_type": "markdown",
   "metadata": {
    "heading_collapsed": true,
    "id": "nQaL6dQ7jfk0"
   },
   "source": [
    "## **1. Problem Statement**"
   ]
  },
  {
   "cell_type": "markdown",
   "metadata": {
    "hidden": true,
    "id": "zPF0S7gHfoGV"
   },
   "source": [
    "Build a model that can classify customer complaints based on the product/service. This will allow the segreggation of these complaints (or tickets) to their relevant categories (or topics), thereby helping in the quick resolution of an issue.\n",
    "\n",
    "\n",
    "We will be doing topic modeling on a consumer complaints data set. Since the data is not labeled, we will be applying the non-negative matrix factorization (**NMF**) approach for topic modeling of consumer complaints and clustering them into one of the following five categories:\n",
    "\n",
    "- **Credit/Prepaid Card**\n",
    "- **Bank Account Services**\n",
    "- **Theft/Dispute Reporting**\n",
    "- **Mortgages/Loans**\n",
    "- **Others**\n",
    "\n",
    "With the aid of topic modeling, we will be able to map each ticket onto the respective department/category. We will then use this data to train any classifier such as *logistic regression*, *decision tree*, or *random forest*. Finally, using the trained classifier we will classify any new customer complaint support ticket to the relevant department. "
   ]
  },
  {
   "cell_type": "markdown",
   "metadata": {
    "heading_collapsed": true,
    "id": "LwqK2NyDudE8"
   },
   "source": [
    "## **2. Essential Comments**"
   ]
  },
  {
   "cell_type": "markdown",
   "metadata": {
    "hidden": true,
    "id": "U9mRazP9uZmZ"
   },
   "source": [
    "1. If you are running this notebook on Google Colab, uncomment the first cell in the section below, called **\"Import Required Libraries and Modules\"**, and run the notebook end-to-end.\n",
    "\n",
    "2. If you are running this notebook on a local or virtual machine, make sure to create a new virtual or `conda` environment, install all required libraies, and then run the notebook end-to-end. \n",
    "\n",
    "3. Make sure that you use `gensim==4.0` package if you want to use the `nmf` model available in `gensim.models`. The `NMF.py` file is not available in `gensim.models` with old versions of gensim such as `gensim==3.6` or `gensim==3.8`.\n",
    "\n",
    "4. The most time consuming parts of this notebook are the lemmatization step present in \"**Exploratory Data Analysis and Data Preprocessing**\" and the NMF step in **\"Topic Modeling with TF-IDF Vectorization and NMF\"**. One can in principle, decrease this time with either/both the following approaches:\n",
    "\n",
    "    - The **stemming** approach (from `nltk` package) of wrapping the **lemmatization** step with other data preprocessing steps into a `spaCy` **pipeline**. \n",
    "\n",
    "    - Using a subset of the \"non-empty\" (\"non-blank\") consumer complaints instead of the whole data set of around 22,000 records."
   ]
  },
  {
   "cell_type": "markdown",
   "metadata": {
    "heading_collapsed": true,
    "id": "fZ4xsi2xupci"
   },
   "source": [
    "## **3. Import Required Libraries and Modules**"
   ]
  },
  {
   "cell_type": "code",
   "execution_count": null,
   "metadata": {
    "hidden": true,
    "id": "0DMMh473ZHZ4"
   },
   "outputs": [],
   "source": [
    "!python3 -m spacy download en_core_web_sm --quiet\n",
    "!python -m textblob.download_corpora --quiet\n",
    "!python3 -m pip install gensim==4.0 --quiet"
   ]
  },
  {
   "cell_type": "code",
   "execution_count": null,
   "metadata": {
    "hidden": true,
    "id": "N3iWwwa1uSI-"
   },
   "outputs": [],
   "source": [
    "# Builtin libraries\n",
    "import os\n",
    "import warnings\n",
    "import json\n",
    "import re\n",
    "import string\n",
    "import IPython as ipy\n",
    "import pickle\n",
    "import pprint\n",
    "\n",
    "# Third-party libraries for data science\n",
    "# and machine learning \n",
    "import numpy as np\n",
    "import pandas as pd\n",
    "import matplotlib as mpl \n",
    "import seaborn as sns\n",
    "import plotly\n",
    "import sklearn as skl \n",
    "\n",
    "# Third-party NLP libraries\n",
    "import nltk\n",
    "import spacy\n",
    "import en_core_web_sm\n",
    "import textblob\n",
    "import wordcloud\n",
    "import gensim"
   ]
  },
  {
   "cell_type": "code",
   "execution_count": null,
   "metadata": {
    "hidden": true,
    "id": "y9B9svTuvU7N"
   },
   "outputs": [],
   "source": [
    "print(f'{\"re --version\":{20}} : {re.__version__:s}')\n",
    "print(f'{\"json --version\":{20}} : {json.__version__:s}')\n",
    "print(f'{\"nltk --version\":{20}} : {nltk.__version__:s}')\n",
    "print(f'{\"spacy --version\":{20}} : {spacy.__version__:s}')\n",
    "print(f'{\"ipython --version\":{20}} : {ipy.__version__:s}')\n",
    "print(f'{\"numpy --version\":{20}} : {np.__version__:s}')\n",
    "print(f'{\"pandas --version\":{20}} : {pd.__version__:s}')\n",
    "print(f'{\"matplotlib --version\":{20}} : {mpl.__version__:s}')\n",
    "print(f'{\"seaborn --version\":{20}} : {sns.__version__:s}')\n",
    "print(f'{\"plotly --version\":{20}} : {plotly.__version__:s}')\n",
    "print(f'{\"sklearn --version\":{20}} : {skl.__version__:s}')\n",
    "print(f'{\"textblob --version\":{20}} : {textblob.__version__:s}')\n",
    "print(f'{\"wordcloud --version\":{20}} : {wordcloud.__version__:s}')\n",
    "print(f'{\"gensim --version\":{20}} : {gensim.__version__:s}')"
   ]
  },
  {
   "cell_type": "code",
   "execution_count": null,
   "metadata": {
    "hidden": true,
    "id": "yaEC4evXuyu8"
   },
   "outputs": [],
   "source": [
    "warnings.filterwarnings(action='ignore')"
   ]
  },
  {
   "cell_type": "code",
   "execution_count": null,
   "metadata": {
    "hidden": true,
    "id": "EzyDJqByvL6O"
   },
   "outputs": [],
   "source": [
    "from IPython.display import display\n",
    "from IPython.core.interactiveshell import InteractiveShell\n",
    "InteractiveShell.ast_node_interactivity = 'all'\n",
    "\n",
    "from matplotlib import pyplot as plt \n",
    "\n",
    "from sklearn.model_selection import train_test_split as tts \n",
    "from sklearn.linear_model import LogisticRegression \n",
    "from sklearn.naive_bayes import MultinomialNB\n",
    "from sklearn.tree import DecisionTreeClassifier \n",
    "from sklearn.ensemble import RandomForestClassifier\n",
    "from sklearn.feature_extraction.text import CountVectorizer, TfidfVectorizer, TfidfTransformer \n",
    "from sklearn.metrics import confusion_matrix, f1_score, classification_report\n",
    "from sklearn import decomposition as decomp\n",
    "\n",
    "from plotly import offline as plot\n",
    "from plotly import graph_objects as go\n",
    "from plotly import express as px\n",
    "\n",
    "from pprint import pprint\n",
    "\n",
    "from textblob import TextBlob\n",
    "from wordcloud import WordCloud, STOPWORDS\n",
    "\n",
    "from gensim.corpora.dictionary import Dictionary\n",
    "from gensim.models import nmf, CoherenceModel \n",
    "from gensim.models.coherencemodel import CoherenceModel\n",
    "from operator import itemgetter"
   ]
  },
  {
   "cell_type": "code",
   "execution_count": null,
   "metadata": {
    "hidden": true,
    "id": "fvLraf2lZ_LV"
   },
   "outputs": [],
   "source": [
    "nlp_model = en_core_web_sm.load()"
   ]
  },
  {
   "cell_type": "markdown",
   "metadata": {
    "heading_collapsed": true,
    "id": "On7oVtBHx1Qv"
   },
   "source": [
    "## **4. Load JSON Data as Pandas DataFrame** "
   ]
  },
  {
   "cell_type": "code",
   "execution_count": null,
   "metadata": {
    "hidden": true,
    "id": "6Lk8ZQZbyS7W"
   },
   "outputs": [],
   "source": [
    "!pwd \n",
    "!wget -nv https://raw.githubusercontent.com/rs2pydev/nlp_1_CLFwTM/main/data/Client_data.json\n",
    "!ls "
   ]
  },
  {
   "cell_type": "code",
   "execution_count": null,
   "metadata": {
    "hidden": true,
    "id": "S21PhkG_vb5c"
   },
   "outputs": [],
   "source": [
    "with open(\"./Client_data.json\") as f_handle:\n",
    "    json_data = json.load(f_handle)"
   ]
  },
  {
   "cell_type": "code",
   "execution_count": null,
   "metadata": {
    "hidden": true,
    "id": "FVK-PagryE6N"
   },
   "outputs": [],
   "source": [
    "df = pd.json_normalize(json_data) "
   ]
  },
  {
   "cell_type": "markdown",
   "metadata": {
    "heading_collapsed": true,
    "id": "jP-JGSl_zLAd"
   },
   "source": [
    "## **5. Exploratory Data Analysis and Data Preprocessing**"
   ]
  },
  {
   "cell_type": "markdown",
   "metadata": {
    "heading_collapsed": true,
    "hidden": true,
    "id": "Bclotpcv9-N7"
   },
   "source": [
    "### 5.1 Data Exploration "
   ]
  },
  {
   "cell_type": "code",
   "execution_count": null,
   "metadata": {
    "hidden": true,
    "id": "PfG7fg8_zTtS"
   },
   "outputs": [],
   "source": [
    "# Display dataset\n",
    "display(df.sample(n=10))"
   ]
  },
  {
   "cell_type": "code",
   "execution_count": null,
   "metadata": {
    "hidden": true,
    "id": "JOxnZmkmzdCT"
   },
   "outputs": [],
   "source": [
    "# Check number of rows and columns in dataset\n",
    "print(df.shape)"
   ]
  },
  {
   "cell_type": "code",
   "execution_count": null,
   "metadata": {
    "hidden": true,
    "id": "_NuVA7DGzejq"
   },
   "outputs": [],
   "source": [
    "# Variables' information\n",
    "df.info()"
   ]
  },
  {
   "cell_type": "code",
   "execution_count": null,
   "metadata": {
    "hidden": true,
    "id": "ZwxmmGSTznOI"
   },
   "outputs": [],
   "source": [
    "# Identify and collect null columns\n",
    "null_cols = [var for var in df.columns if df[var].isnull().sum() > 0]\n",
    "print(*null_cols, sep='\\n', end='\\n\\n')\n",
    "display(df[null_cols].isnull().sum())"
   ]
  },
  {
   "cell_type": "code",
   "execution_count": null,
   "metadata": {
    "hidden": true,
    "id": "7e_rnsrIcqOc"
   },
   "outputs": [],
   "source": [
    "# Identify and collect non-null columns\n",
    "not_null_cols = [var for var in df.columns if df[var].isnull().sum() == 0]\n",
    "print(*not_null_cols, sep='\\n', end='\\n\\n')\n",
    "display(df[not_null_cols].isnull().sum())"
   ]
  },
  {
   "cell_type": "code",
   "execution_count": null,
   "metadata": {
    "hidden": true,
    "id": "dDO_5z27zpum"
   },
   "outputs": [],
   "source": [
    "# Create list of column names\n",
    "col_names = df.columns.to_list()\n",
    "print('Column Names: ')\n",
    "print(*col_names, sep=\"\\n\", end='\\n')"
   ]
  },
  {
   "cell_type": "code",
   "execution_count": null,
   "metadata": {
    "hidden": true,
    "id": "cGyO6WwPz1J3"
   },
   "outputs": [],
   "source": [
    "def value_count_df(df:pd.DataFrame=None, var:str=None) -> pd.DataFrame:\n",
    "    \"\"\"\n",
    "    Given a Pandas DataFrame and a column name, this function displays \n",
    "    the items in the column and their counts (frequencies).\n",
    "    Args:\n",
    "        df: pd.DataFrame | Default value None\n",
    "        var: str | Default value None\n",
    "    Return:\n",
    "        pd.DataFrame\n",
    "    \"\"\"\n",
    "    new_df = pd.DataFrame()\n",
    "    new_df = df[var].value_counts().reset_index()\n",
    "    new_df.columns = [str(var), 'Count']\n",
    "    return new_df"
   ]
  },
  {
   "cell_type": "code",
   "execution_count": null,
   "metadata": {
    "hidden": true,
    "id": "W4ryBGV43obo"
   },
   "outputs": [],
   "source": [
    "# Check distributions of columns of interest\n",
    "vars = [\n",
    "    '_source.product', \n",
    "    '_source.issue', \n",
    "    '_source.complaint_what_happened'\n",
    "]\n",
    "\n",
    "for var in vars:\n",
    "    tmp = pd.DataFrame()\n",
    "    tmp = value_count_df(df=df, var=var)\n",
    "    print(f'For variable `{var:s}`: ')\n",
    "    display(tmp)\n",
    "    print()"
   ]
  },
  {
   "cell_type": "code",
   "execution_count": null,
   "metadata": {
    "hidden": true,
    "id": "awD5TCWQ37Mh"
   },
   "outputs": [],
   "source": [
    "# We will examine the consumer complaints column to check for\n",
    "# null values hidden as empty strings\n",
    "print('Non-empty items: ')\n",
    "display(df.loc[(df['_source.complaint_what_happened'] != ''), :].shape)\n",
    "print('Empty items: ')\n",
    "display(df.loc[(df['_source.complaint_what_happened'] == ''), :].shape)"
   ]
  },
  {
   "cell_type": "markdown",
   "metadata": {
    "heading_collapsed": true,
    "hidden": true,
    "id": "tbBWzhs9BKVA"
   },
   "source": [
    "### 5.2 Data Exploration Summary"
   ]
  },
  {
   "cell_type": "markdown",
   "metadata": {
    "hidden": true,
    "id": "F2o_h4DQh05u"
   },
   "source": [
    "* The dataset has 78313 customer complaints and 22 features with the customer complaint is in `_source.complaint_what_happened` column.\n",
    "\n",
    "* Using the 21072 non-empty (non-blank) rows of the `_source.complaint_what_happened` column, we will create a DataFrame called `df_text`. **NOTE:** 57241 rows of this column are empty (blank). \n",
    "\n",
    "* Next, we rename the `df_text` column.\n",
    "\n",
    "* Finally, we apply text preprocessing (see below) on `df_text.complaints_unclean` and create a new column, `complaints_clean`. \n",
    "    * Convert text to lowercase.\n",
    "    * Remove text in square brackets.\n",
    "    * Remove punctuations.\n",
    "    * Remove words containing numbers.\n",
    "    * Remove all *hidden* words, containing `XXX`\n",
    "    * Use POS tags to get relevant words from the texts - We will use nouns only.\n",
    "    * Lemmatize the texts."
   ]
  },
  {
   "cell_type": "markdown",
   "metadata": {
    "heading_collapsed": true,
    "hidden": true,
    "id": "XZ8EuraSBVjk"
   },
   "source": [
    "### 5.3 Data Preprocessing"
   ]
  },
  {
   "cell_type": "code",
   "execution_count": null,
   "metadata": {
    "hidden": true,
    "id": "sFhYULYSj8C5"
   },
   "outputs": [],
   "source": [
    "df_text = pd.DataFrame()\n",
    "df_text = pd.DataFrame(df.loc[(df['_source.complaint_what_happened'] != ''), \n",
    "                 '_source.complaint_what_happened']).reset_index(drop=True)\n",
    "df_text.rename(columns={'_source.complaint_what_happened': 'complaints_unclean'}, \n",
    "               inplace=True)\n",
    "display(df_text.sample(n=10))"
   ]
  },
  {
   "cell_type": "code",
   "execution_count": null,
   "metadata": {
    "hidden": true,
    "id": "Sot-WFfMgnZA"
   },
   "outputs": [],
   "source": [
    "def text_cleaner(text:str=None) -> str:\n",
    "    '''\n",
    "    Make text lowercase, remove text in square brackets, remove punctuation \n",
    "    and remove words containing numbers.\n",
    "    Args:\n",
    "        text: str | Default value None\n",
    "    Returns:\n",
    "        str \n",
    "    '''\n",
    "    text = text.lower() # Make word lowercase\n",
    "    text = re.sub(r'\\[.*?\\]', '', text)  # Remove word in square brackets\n",
    "    text = re.sub(r'\\w*\\d\\w*', '', text) # Remove words with digits \n",
    "    text = re.sub(r'x{4}|xx/', '', text) # Remove words with 'XXXX' | 'XX/' \n",
    "    text = re.sub(r'\\n', '', text) # Remove new lines\n",
    "    text = re.sub(r'\\b\\w{1,3}\\b', '', text) # Remove all 1-, 2-, and 3-letter words\n",
    "    text = re.sub(r'[%s]' % re.escape(string.punctuation), '', text) # Remove punctuations\n",
    "    return text"
   ]
  },
  {
   "cell_type": "code",
   "execution_count": null,
   "metadata": {
    "hidden": true,
    "id": "wi-bwDrkDAPI"
   },
   "outputs": [],
   "source": [
    "df_text['complaints_clean'] = df_text['complaints_unclean'].apply(lambda x: text_cleaner(x))"
   ]
  },
  {
   "cell_type": "code",
   "execution_count": null,
   "metadata": {
    "hidden": true,
    "id": "W-CRzZrmkW1n"
   },
   "outputs": [],
   "source": [
    "pd.set_option('display.max_colwidth', -1)\n",
    "display(df_text.sample(n=5))"
   ]
  },
  {
   "cell_type": "code",
   "execution_count": null,
   "metadata": {
    "hidden": true,
    "id": "-mu_EE1Mnio1"
   },
   "outputs": [],
   "source": [
    "def text_lemmatizer(text:str=None) -> str:        \n",
    "    '''\n",
    "    Function to Lemmatize an input text.\n",
    "    Args:\n",
    "        text: str | Default value None\n",
    "    Returns:\n",
    "        str \n",
    "    '''\n",
    "    lemmas = []\n",
    "    doc = nlp_model(text)\n",
    "    for word in doc:\n",
    "        lemmas.append(word.lemma_)\n",
    "    return \" \".join(lemmas)"
   ]
  },
  {
   "cell_type": "code",
   "execution_count": null,
   "metadata": {
    "hidden": true,
    "id": "Farkqt5PilHu"
   },
   "outputs": [],
   "source": [
    "# Creating a dataframe with \n",
    "# --- original (uncleaned) complaints \n",
    "# --- cleaned complaints \n",
    "# --- lemmatized complaints.\n",
    "df_text[\"complaints_lemmatize\"] =  df_text.apply(lambda x: text_lemmatizer(\n",
    "    x['complaints_clean']), axis=1)\n",
    "display(df_text.sample(n=6))"
   ]
  },
  {
   "cell_type": "markdown",
   "metadata": {
    "hidden": true,
    "id": "t3zOUQtUCH6j"
   },
   "source": [
    "* Unlike verbs and common nouns, there's no clear base form of a personal pronoun.  spaCy's solution is to introduce a novel symbol, -PRON-, which is used as the lemma for all personal pronouns.\n",
    "\n",
    "* **Chunking** in NLP is a process to take small pieces of information and group them into large units. The primary use of **Chunking** is making groups of \"noun phrases. Here we are using only singular nouns as we have already lemmatized the texts."
   ]
  },
  {
   "cell_type": "code",
   "execution_count": null,
   "metadata": {
    "hidden": true,
    "id": "weef7E3K8mRM"
   },
   "outputs": [],
   "source": [
    "def pos_tag(text):\n",
    "    try:\n",
    "        return TextBlob(text).tags\n",
    "    except:\n",
    "        return None\n",
    "\n",
    "def get_adjectives(text):\n",
    "    blob = TextBlob(text)\n",
    "    return ' '.join([word for (word,tag) in blob.tags if tag == \"NN\"])\n",
    "\n",
    "df_text[\"complaints_POS_removed\"] =  df_text.apply(lambda x: \n",
    "                                                    get_adjectives(x['complaints_lemmatize']), \n",
    "                                                    axis=1)"
   ]
  },
  {
   "cell_type": "code",
   "execution_count": null,
   "metadata": {
    "hidden": true,
    "id": "4uqDFzTm4QuA"
   },
   "outputs": [],
   "source": [
    "# Now, `df_text` DataFrame contains: \n",
    "# --- Raw (unclean) complaints\n",
    "# --- Cleaned complaints \n",
    "# --- Lemmatized complaints \n",
    "# --- Complaints after removing POS tags.\n",
    "\n",
    "display(df_text.sample(n=5))"
   ]
  },
  {
   "cell_type": "markdown",
   "metadata": {
    "heading_collapsed": true,
    "hidden": true,
    "id": "8o_nIrJo91Z1"
   },
   "source": [
    "### 5.4 Visualization of Preprocessed Data"
   ]
  },
  {
   "cell_type": "code",
   "execution_count": null,
   "metadata": {
    "hidden": true,
    "id": "k2O2GpJ04xOU"
   },
   "outputs": [],
   "source": [
    "plt.figure(figsize=(10,6))\n",
    "doc_lens = [len(d) for d in df_text.complaints_POS_removed]\n",
    "plt.hist(doc_lens, bins = 50)\n",
    "plt.title('Distribution of Complaint character length')\n",
    "plt.ylabel('Number of Complaint')\n",
    "plt.xlabel('Complaint character length')\n",
    "sns.despine()\n",
    "plt.show();"
   ]
  },
  {
   "cell_type": "markdown",
   "metadata": {
    "hidden": true,
    "id": "s4-aoW1tLiar"
   },
   "source": [
    "The above plot shows that in terms of the distribution of the word counts, it is positively skewed.\n",
    "\n",
    "Below, we show the top 40 words by frequency among all the articles after processing the text."
   ]
  },
  {
   "cell_type": "code",
   "execution_count": null,
   "metadata": {
    "hidden": true,
    "id": "jewJIhcbMzXa"
   },
   "outputs": [],
   "source": [
    "stopwords = set(STOPWORDS)\n",
    "wc = WordCloud(background_color='white', stopwords=stopwords, max_words=40, \n",
    "               max_font_size=40, random_state=42).generate(str(df_text['complaints_POS_removed']))\n",
    "print(wc)"
   ]
  },
  {
   "cell_type": "code",
   "execution_count": null,
   "metadata": {
    "hidden": true,
    "id": "rDUH88nK49XK"
   },
   "outputs": [],
   "source": [
    "mpl.rcParams['figure.figsize'] = (12.0,12.0)  \n",
    "mpl.rcParams['font.size'] = 12            \n",
    "mpl.rcParams['savefig.dpi'] = 100             \n",
    "mpl.rcParams['figure.subplot.bottom'] =.1 \n",
    "fig = plt.figure()\n",
    "plt.imshow(wc);\n",
    "plt.axis('off')\n",
    "plt.show();"
   ]
  },
  {
   "cell_type": "code",
   "execution_count": null,
   "metadata": {
    "hidden": true,
    "id": "QuBjCQ-L5BcI"
   },
   "outputs": [],
   "source": [
    "#Removing `-PRON-` from the text corpus\n",
    "df_text['complaints_fin_ver'] = df_text['complaints_POS_removed'].str.replace('-PRON-', '')\n",
    "display(df_text.sample(n=5))"
   ]
  },
  {
   "cell_type": "markdown",
   "metadata": {
    "hidden": true,
    "id": "9w22qESGNVD3"
   },
   "source": [
    "Given below are the top unigrams, bigrams and trigrams by frequency among all the complaints after processing the text: \n",
    "\n",
    "- **credit**\n",
    "- **debt** \n",
    "- **bank** \n",
    "- **loan** \n",
    "- **mortgage** \n",
    "\n",
    "The above are some of the top words which makes sense given the focus of the complaints."
   ]
  },
  {
   "cell_type": "code",
   "execution_count": null,
   "metadata": {
    "hidden": true,
    "id": "Qw5xYbpaOQeg"
   },
   "outputs": [],
   "source": [
    "def get_top_n_ngram(corpus:str=None, ng_range:tuple=(), \n",
    "                     n:int=0) -> list:\n",
    "    \"\"\"\n",
    "    Get top `n` ngrams from a given corpus.\n",
    "    Args:\n",
    "        corpus:str      | Default value None\n",
    "        ng_range:tuple  | Default value ()\n",
    "        n:int           | Default value 0\n",
    "    Returns:\n",
    "        words_freq:list \n",
    "    \"\"\"\n",
    "    if ng_range:\n",
    "        vec = CountVectorizer(ngram_range=ng_range, stop_words='english').fit(corpus)\n",
    "    else:\n",
    "        vec = CountVectorizer(stop_words='english').fit(corpus)\n",
    "    bag_of_words = vec.transform(corpus)\n",
    "    sum_words = bag_of_words.sum(axis=0) \n",
    "    words_freq = [(word, sum_words[0, idx]) for word, idx in vec.vocabulary_.items()]\n",
    "    words_freq =sorted(words_freq, key = lambda x: x[1], reverse=True)\n",
    "    return words_freq[:n]"
   ]
  },
  {
   "cell_type": "code",
   "execution_count": null,
   "metadata": {
    "hidden": true,
    "id": "8XMNme7lNNVC"
   },
   "outputs": [],
   "source": [
    "# Extract and plot top 30 unigrams\n",
    "\n",
    "common_words = get_top_n_ngram(corpus=df_text['complaints_fin_ver'].values.astype('U'), n=30)\n",
    "df2 = pd.DataFrame(common_words, columns = ['unigram' , 'count'])\n",
    "display(df2.head(10))\n",
    "\n",
    "fig = go.Figure([go.Bar(x=df2['unigram'], y=df2['count'])])\n",
    "fig.update_layout(title=go.layout.Title(\n",
    "    text=\"Top 30 unigrams in complaint text after removing stop words and lemmatization\"))\n",
    "fig.show();"
   ]
  },
  {
   "cell_type": "code",
   "execution_count": null,
   "metadata": {
    "hidden": true,
    "id": "Qs4tOP3dOtg4"
   },
   "outputs": [],
   "source": [
    "# Extract and plot top 30 bigrams\n",
    "\n",
    "common_words = get_top_n_ngram(corpus=df_text['complaints_fin_ver'].values.astype('U'), \n",
    "                               ng_range=(2, 2), n=30)\n",
    "df3 = pd.DataFrame(common_words, columns = ['bigram' , 'count'])\n",
    "display(df3.head(10))\n",
    "\n",
    "fig = go.Figure([go.Bar(x=df3['bigram'], y=df3['count'])])\n",
    "fig.update_layout(title=go.layout.Title(\n",
    "    text=\"Top 30 bigrams in complaint text after removing stop words and lemmatization\"))\n",
    "fig.show();"
   ]
  },
  {
   "cell_type": "code",
   "execution_count": null,
   "metadata": {
    "hidden": true,
    "id": "SIT-G7VfPIud"
   },
   "outputs": [],
   "source": [
    "# Extract and plot top 30 trigrams\n",
    "\n",
    "common_words = get_top_n_ngram(corpus=df_text['complaints_fin_ver'].values.astype('U'), \n",
    "                               ng_range=(3, 3), n=30)\n",
    "df4 = pd.DataFrame(common_words, columns = ['trigram' , 'count'])\n",
    "df4.head(10)\n",
    "\n",
    "fig = go.Figure([go.Bar(x=df4['trigram'], y=df4['count'])])\n",
    "fig.update_layout(title=go.layout.Title(\n",
    "    text=\"Top 30 trigrams in complaint text after removing stop words and lemmatization\"))\n",
    "fig.show();"
   ]
  },
  {
   "cell_type": "markdown",
   "metadata": {
    "heading_collapsed": true,
    "id": "k6joC0h-f3i-"
   },
   "source": [
    "## **6. Topic Modeling with TF-IDF Vectorization and NMF**"
   ]
  },
  {
   "cell_type": "markdown",
   "metadata": {
    "heading_collapsed": true,
    "hidden": true,
    "id": "hN38IaHfQDS2"
   },
   "source": [
    "### 6.1 Vectorize Raw Texts to TF-IDF Feature Matrix\n",
    "\n",
    "Here:\n",
    "\n",
    "- `max_df` is used for removing terms that appear too frequently, also known as \"corpus-specific stop words\". `max_df = 0.95` means \"ignore terms that appear in more than 95% of the complaints\"\n",
    "\n",
    "- `min_df` is used for removing terms that appear too infrequently. `min_df = 2` means \"ignore terms that appear in less than 2 complaints\""
   ]
  },
  {
   "cell_type": "code",
   "execution_count": null,
   "metadata": {
    "hidden": true,
    "id": "rzGfeoKXPp2y"
   },
   "outputs": [],
   "source": [
    "tfidf_vec = TfidfVectorizer(max_df=0.95, min_df=2, stop_words='english')"
   ]
  },
  {
   "cell_type": "markdown",
   "metadata": {
    "hidden": true,
    "id": "nWuZZ5OSQc33"
   },
   "source": [
    "Create a document term matrix using `fit_transform()`. The contents of a document term matrix are tuples of `(complaint_id,token_id)` TF-IDF score such that those tuples that are absent have a score of 0."
   ]
  },
  {
   "cell_type": "code",
   "execution_count": null,
   "metadata": {
    "hidden": true,
    "id": "JWgBdZguQytk"
   },
   "outputs": [],
   "source": [
    "doc_mat = tfidf_vec.fit_transform(df_text['complaints_fin_ver'])"
   ]
  },
  {
   "cell_type": "markdown",
   "metadata": {
    "heading_collapsed": true,
    "hidden": true,
    "id": "xX8vpUeZedZo"
   },
   "source": [
    "### 6.2 Find Optimal Number of Topic with NMF \n",
    "\n",
    "The Non-Negative Matrix Factorization (NMF) is an unsupervised technique wherein high dimensional (word) vectors are decomposed (or factorized) into lower-dimensional (lower-rank) representations. These lower-dimensional vectors are non-negative which also means their coefficients are non-negative."
   ]
  },
  {
   "cell_type": "markdown",
   "metadata": {
    "hidden": true,
    "id": "Flx7TJgVe8ds"
   },
   "source": [
    "We will use a **coherence model** to automatically select the best number of topics."
   ]
  },
  {
   "cell_type": "code",
   "execution_count": null,
   "metadata": {
    "hidden": true,
    "id": "MGsRZbe6eUEq"
   },
   "outputs": [],
   "source": [
    "# Use Gensim's NMF to get the best num of topics via coherence score\n",
    "texts = df_text['complaints_fin_ver']\n",
    "dataset = [d.split() for d in texts]"
   ]
  },
  {
   "cell_type": "code",
   "execution_count": null,
   "metadata": {
    "hidden": true,
    "id": "eol6rNgGeUTu"
   },
   "outputs": [],
   "source": [
    "# Create a Gensim dictionary, i.e., a mapping between \n",
    "# words and their integer id\n",
    "dictionary = Dictionary(dataset)"
   ]
  },
  {
   "cell_type": "code",
   "execution_count": null,
   "metadata": {
    "hidden": true,
    "id": "Zn9HMkAkgmnb"
   },
   "outputs": [],
   "source": [
    "# Filter out extremes to limit the number of features\n",
    "dictionary.filter_extremes(no_below=3, no_above=0.85, keep_n=5000)"
   ]
  },
  {
   "cell_type": "code",
   "execution_count": null,
   "metadata": {
    "hidden": true,
    "id": "zQmnRlHMgmp1"
   },
   "outputs": [],
   "source": [
    "# Create the bag-of-words format => list of tuples with \n",
    "# each tuple being (token_id, token_count)\n",
    "corpus = [dictionary.doc2bow(text) for text in dataset]"
   ]
  },
  {
   "cell_type": "code",
   "execution_count": null,
   "metadata": {
    "hidden": true,
    "id": "ThcmBvIPgmr8"
   },
   "outputs": [],
   "source": [
    "# Create a list of the topic numbers we want to try\n",
    "topic_nums = list(np.arange(5, 10, 1))"
   ]
  },
  {
   "cell_type": "code",
   "execution_count": null,
   "metadata": {
    "hidden": true,
    "id": "-Km4XZYBgmub"
   },
   "outputs": [],
   "source": [
    "# Run the nmf model and calculate the coherence score\n",
    "# for each number of topics\n",
    "coherence_scores = []\n",
    "for num in topic_nums:\n",
    "\n",
    "    NMF = nmf.Nmf(corpus=corpus, num_topics=num, id2word=dictionary, chunksize=2000, \n",
    "              passes=5, kappa=.1, minimum_probability=0.01, w_max_iter=300, \n",
    "              w_stop_condition=0.0001, h_max_iter=100, h_stop_condition=0.001, \n",
    "              eval_every=10, normalize=True, random_state=42)\n",
    "    \n",
    "    # Run the coherence model to get the score\n",
    "    cm = CoherenceModel(model=NMF, texts=texts, dictionary=dictionary, coherence='c_v')\n",
    "    coherence_scores.append(round(cm.get_coherence(), 5))"
   ]
  },
  {
   "cell_type": "code",
   "execution_count": null,
   "metadata": {
    "hidden": true,
    "id": "FpOJgjgTgmxv"
   },
   "outputs": [],
   "source": [
    "# Get the number of topics with the highest coherence score\n",
    "scores = list(zip(topic_nums, coherence_scores))\n",
    "best_num_topics = sorted(scores, key=itemgetter(1), reverse=True)[0][0]\n",
    "print(best_num_topics)"
   ]
  },
  {
   "cell_type": "markdown",
   "metadata": {
    "heading_collapsed": true,
    "hidden": true,
    "id": "14L2V5UnsGgp"
   },
   "source": [
    "### 6.3 Manual Topic Modeling with NMF\n",
    "\n",
    "With the above `CoherenceModel` we got the best number of topics as 5.Now, all we need to do is run the model. The only parameter that is required is the number of components i.e. the number of topics we want. *This is the most crucial part in any topic modeling process and will greatly affect how good your final topics are.*"
   ]
  },
  {
   "cell_type": "code",
   "execution_count": null,
   "metadata": {
    "hidden": true,
    "id": "hAAopXPnsG1m"
   },
   "outputs": [],
   "source": [
    "nmf_model = decomp.NMF(n_components=5,random_state=40)\n",
    "nmf_model.fit(doc_mat)\n",
    "print()\n",
    "print(len(tfidf_vec.get_feature_names()))"
   ]
  },
  {
   "cell_type": "code",
   "execution_count": null,
   "metadata": {
    "hidden": true,
    "id": "Kav55Sg2sG4F"
   },
   "outputs": [],
   "source": [
    "# Print the top word of a sample component\n",
    "single_topic = nmf_model.components_[0]\n",
    "single_topic.argsort()\n",
    "top_word_indices = single_topic.argsort()[-10:]\n",
    "for index in top_word_indices:\n",
    "    print(tfidf_vec.get_feature_names()[index])"
   ]
  },
  {
   "cell_type": "code",
   "execution_count": null,
   "metadata": {
    "hidden": true,
    "id": "12VkQdg6sG6b"
   },
   "outputs": [],
   "source": [
    "# Print Top 15 words for each of the topics\n",
    "for index,topic in enumerate(nmf_model.components_):\n",
    "    print(f'THE TOP 15 WORDS FOR TOPIC #{index}')\n",
    "    print([tfidf_vec.get_feature_names()[i] for i in topic.argsort()[-15:]])\n",
    "    print('\\n')"
   ]
  },
  {
   "cell_type": "code",
   "execution_count": null,
   "metadata": {
    "hidden": true,
    "id": "nYLAAwLZs3xH"
   },
   "outputs": [],
   "source": [
    "# Creating the best topic for each complaint\n",
    "topic_results = nmf_model.transform(doc_mat)\n",
    "topic_results[0].round(2)\n",
    "topic_results[0].argmax()\n",
    "topic_results.argmax(axis=1)"
   ]
  },
  {
   "cell_type": "code",
   "execution_count": null,
   "metadata": {
    "hidden": true,
    "id": "v7QAp5p9s3qa"
   },
   "outputs": [],
   "source": [
    "# Assign the best topic to each of the complaints in \n",
    "# `Topic` column\n",
    "df_text['Topic'] = topic_results.argmax(axis=1)"
   ]
  },
  {
   "cell_type": "code",
   "execution_count": null,
   "metadata": {
    "hidden": true,
    "id": "1xfdEwsCs3ht"
   },
   "outputs": [],
   "source": [
    "df_text.head()"
   ]
  },
  {
   "cell_type": "code",
   "execution_count": null,
   "metadata": {
    "hidden": true,
    "id": "MgccUoK1s3J0"
   },
   "outputs": [],
   "source": [
    "# Print the first 5 complaints for each of the topics\n",
    "df_dc=df_text.groupby('Topic').head(5)\n",
    "df_dc.sort_values('Topic')"
   ]
  },
  {
   "cell_type": "code",
   "execution_count": null,
   "metadata": {
    "hidden": true,
    "id": "SgCALxG9t1KE"
   },
   "outputs": [],
   "source": [
    "# Create a dictionary of topic names and \n",
    "# topics, i.e., topic number\n",
    "topic_names = {\n",
    "    0: \"Bank Account Services\", \n",
    "    1: \"Credit/Prepaid Card\", \n",
    "    2: \"Others\", \n",
    "    3: \"Theft/Dispute Reporting\", \n",
    "    4: \"Mortgage/Loan\"\n",
    "}"
   ]
  },
  {
   "cell_type": "code",
   "execution_count": null,
   "metadata": {
    "hidden": true,
    "id": "At_d7S4nt1Ct"
   },
   "outputs": [],
   "source": [
    "# Replace Topics with Topic Names\n",
    "df_text['Topic'] = df_text['Topic'].map(topic_names)"
   ]
  },
  {
   "cell_type": "code",
   "execution_count": null,
   "metadata": {
    "hidden": true,
    "id": "S7zFGcqJTci1"
   },
   "outputs": [],
   "source": [
    "display(df_text.head())"
   ]
  },
  {
   "cell_type": "markdown",
   "metadata": {
    "heading_collapsed": true,
    "id": "lQX_qEiYuvm7"
   },
   "source": [
    "## **7. Build Supervised Model to Classify New Complaints** "
   ]
  },
  {
   "cell_type": "markdown",
   "metadata": {
    "hidden": true,
    "id": "_LKh4UgIuvLw"
   },
   "source": [
    "We have analyzed and preprocessed raw text data (consumer complaints) and clustered them into 5 topics using NMF technique. In this section we will use supervised machine learning to classify new consumer complaints to the appropriate topic. \n",
    "\n",
    "Since we will be using supervised learning technique, we have to convert the topic names to numbers as ML algorithms are applicable to numbers *only*."
   ]
  },
  {
   "cell_type": "code",
   "execution_count": null,
   "metadata": {
    "hidden": true,
    "id": "NCKb8XKYt07t"
   },
   "outputs": [],
   "source": [
    "Topic_names = {\n",
    "    \"Bank Account Services\": 0, \n",
    "    \"Credit/Prepaid Card\": 1, \n",
    "    \"Others\": 2, \n",
    "    \"Theft/Dispute Reporting\": 3, \n",
    "    \"Mortgage/Loan\":4\n",
    "}\n",
    "\n",
    "df_text['Topic'] = df_text['Topic'].map(Topic_names)"
   ]
  },
  {
   "cell_type": "code",
   "execution_count": null,
   "metadata": {
    "hidden": true,
    "id": "wMdAi6Sht00I"
   },
   "outputs": [],
   "source": [
    "display(df_text.head())"
   ]
  },
  {
   "cell_type": "code",
   "execution_count": null,
   "metadata": {
    "hidden": true,
    "id": "hDNKc8Hgt0qs"
   },
   "outputs": [],
   "source": [
    "train_data = df_text.loc[:, [\"complaints_unclean\", \"Topic\"]]\n",
    "display(train_data.sample(n=6))"
   ]
  },
  {
   "cell_type": "code",
   "execution_count": null,
   "metadata": {
    "hidden": true,
    "id": "liCLLuJc0Mca"
   },
   "outputs": [],
   "source": [
    "# Get vector count \n",
    "count_vect = CountVectorizer()\n",
    "X_train_counts = count_vect.fit_transform(train_data.complaints_unclean)\n",
    "\n",
    "# Save word vector to disk \n",
    "pickle.dump(count_vect.vocabulary_, open(\"count_vector.pkl\",\"wb\"))"
   ]
  },
  {
   "cell_type": "code",
   "execution_count": null,
   "metadata": {
    "hidden": true,
    "id": "0p4X09C70MFh"
   },
   "outputs": [],
   "source": [
    "# Transform word vector to TF-IDF vector \n",
    "tfidf_transformer = TfidfTransformer()\n",
    "X_train_tfidf = tfidf_transformer.fit_transform(X_train_counts)\n",
    "\n",
    "# Save TF-IDF vector to disk\n",
    "pickle.dump(tfidf_transformer, open(\"tfidf.pkl\",\"wb\"))"
   ]
  },
  {
   "cell_type": "code",
   "execution_count": null,
   "metadata": {
    "hidden": true,
    "id": "-OLjjlX38fI9"
   },
   "outputs": [],
   "source": [
    "def train_test_evaluate(estimator=None, name=None, \n",
    "                        trainData=None, testData=None, testSize:float=0.3, \n",
    "                        randomState:int=42):\n",
    "    \"\"\"\n",
    "    Perform train-test split, train model, test model, and evaluate model performance.\n",
    "    Args:\n",
    "        estimator:sklearn.estimator class object    | Default value None\n",
    "        name:str                                    | Default value None\n",
    "        trainData:pd.Series or np.array             | Default value None\n",
    "        testData:pd.Series or np.array              | Default value None\n",
    "        testSize:float                              | Default value 0.3\n",
    "        randomState:int                             | Default value 42\n",
    "    \"\"\"\n",
    "\n",
    "    # Perform train-test split with `test_size=0.25`\n",
    "    X_train, X_test, y_train, y_test = tts(\n",
    "        trainData, testData, test_size=testSize, random_state=randomState)\n",
    "\n",
    "    # Create Multinomial Naive Bayes classifier \n",
    "    clf = estimator.fit(X_train, y_train)\n",
    "\n",
    "    # Save model to disk\n",
    "    model_name = name + \".pkl\"\n",
    "    pickle.dump(clf, open(model_name, \"wb\"))\n",
    "    print('Model created and saved to disc!')\n",
    "\n",
    "    # Manual creation of the topic names as a list\n",
    "    target_names = [\n",
    "    \"Bank Account Services\", \n",
    "    \"Credit/Prepaid Card\", \n",
    "    \"Others\", \n",
    "    \"Theft/Dispute Reporting\", \n",
    "    \"Mortgage/Loan\"\n",
    "    ]\n",
    "\n",
    "    docs_new = \"\"\"\n",
    "    I can't get any info from chase about who services my mortgage, who owns it and who has \n",
    "    original loan docs\n",
    "    \"\"\"\n",
    "    docs_new = docs_new.split(\" \")\n",
    "\n",
    "    # Load model\n",
    "    load_cvec = CountVectorizer(vocabulary=pickle.load(open(\"count_vector.pkl\", \"rb\")))\n",
    "    load_tfidf = pickle.load(open(\"tfidf.pkl\",\"rb\"))\n",
    "    load_model = pickle.load(open(model_name,\"rb\"))\n",
    "    print('Model loaded from disc!')\n",
    "\n",
    "    # Test model: Make predictions and evaluate model\n",
    "    X_new_counts = load_cvec.transform(docs_new)\n",
    "    X_new_tfidf = load_tfidf.transform(X_new_counts)\n",
    "    predicted = load_model.predict(X_new_tfidf)\n",
    "    # print('Target Names: ', target_names[predicted[:]])\n",
    "    predicted = load_model.predict(X_test)\n",
    "    result = pd.DataFrame({\n",
    "        'true_topic': y_test.apply(lambda x: target_names[x]), \n",
    "        'predicted_topic': y_test.apply(lambda x: target_names[x]), \n",
    "        'true_topic_num': y_test, \n",
    "        'predicted_topic_num': predicted\n",
    "        })\n",
    "    display(result.head(10))\n",
    "    print()\n",
    "   \n",
    "    conf_mat = confusion_matrix(y_test,predicted)\n",
    "    print(conf_mat)\n",
    "    print()\n",
    "    clf_report = classification_report(\n",
    "        y_test, predicted, target_names=target_names)\n",
    "    print(clf_report)"
   ]
  },
  {
   "cell_type": "markdown",
   "metadata": {
    "hidden": true,
    "id": "m7zr1GqE1wdR"
   },
   "source": [
    "### 7.1 Predictive Classifier 1: Multinomial Naive Bayes "
   ]
  },
  {
   "cell_type": "code",
   "execution_count": null,
   "metadata": {
    "hidden": true,
    "id": "-ORbyaDebXOe"
   },
   "outputs": [],
   "source": [
    "clf_mB = MultinomialNB()\n",
    "train_test_evaluate(estimator=clf_mB, name='nb_model', \n",
    "                    trainData=X_train_tfidf, testData=train_data.Topic, \n",
    "                    testSize=0.25)"
   ]
  },
  {
   "cell_type": "markdown",
   "metadata": {
    "hidden": true,
    "id": "EN_jvYf_XEgG"
   },
   "source": [
    "### 7.2 Predictive Classifier 2: Logistic Regression  "
   ]
  },
  {
   "cell_type": "code",
   "execution_count": null,
   "metadata": {
    "hidden": true,
    "id": "KCbzvHTTt0Rl"
   },
   "outputs": [],
   "source": [
    "clf_lr = LogisticRegression(random_state=0)\n",
    "train_test_evaluate(estimator=clf_lr, name='lr_model',\n",
    "                    trainData=X_train_tfidf, testData=train_data.Topic, \n",
    "                    testSize=0.25)"
   ]
  },
  {
   "cell_type": "markdown",
   "metadata": {
    "hidden": true,
    "id": "XlhYJyva5Vqb"
   },
   "source": [
    "### 7.3 Predictive Classifier 3: Decision Tree  "
   ]
  },
  {
   "cell_type": "code",
   "execution_count": null,
   "metadata": {
    "hidden": true,
    "id": "Fek1i4S-0vkl"
   },
   "outputs": [],
   "source": [
    "clf_dt = DecisionTreeClassifier(random_state=0)\n",
    "train_test_evaluate(estimator=clf_dt, name='dt_model',\n",
    "                    trainData=X_train_tfidf, testData=train_data.Topic, \n",
    "                    testSize=0.25)"
   ]
  },
  {
   "cell_type": "markdown",
   "metadata": {
    "hidden": true,
    "id": "jqgFLNdc5uig"
   },
   "source": [
    "### 7.4 Predictive Classifier 4: Random Forest\n"
   ]
  },
  {
   "cell_type": "code",
   "execution_count": null,
   "metadata": {
    "hidden": true,
    "id": "6qoFIlcV5uA3"
   },
   "outputs": [],
   "source": [
    "clf_rf = RandomForestClassifier(random_state=0)\n",
    "train_test_evaluate(estimator=clf_rf, name='rf_model',\n",
    "                    trainData=X_train_tfidf, testData=train_data.Topic, \n",
    "                    testSize=0.25)"
   ]
  },
  {
   "cell_type": "markdown",
   "metadata": {
    "heading_collapsed": true,
    "id": "0jXQu5bK6axs"
   },
   "source": [
    "## **8. Conclusions** "
   ]
  },
  {
   "cell_type": "markdown",
   "metadata": {
    "hidden": true,
    "id": "K_E9a8TX6nM4"
   },
   "source": [
    "1. Out of all the four models compared, *without any kind of model optimization*, the performance of the Logistic Regression algorithm, in terms of F1 score, precision and recall metrics, is the best for all the 5 topics.\n",
    "\n",
    "\n",
    "2. The *unoptimized* performances of the Decision Tree and Random Forest classifiers come in second and third positions, respectively. The Decision Tree classifier is found to have a very balanced performance w.r.t all the 5 classes.\n",
    "\n",
    "\n",
    "3. The Multinomial Naive Bayes algorithms in comparison to the other 3 algorithms performs very poorly w.r.t the **Mortgage/Loan** topic."
   ]
  },
  {
   "cell_type": "code",
   "execution_count": null,
   "metadata": {
    "hidden": true,
    "id": "WTHXQq5q0Bpn"
   },
   "outputs": [],
   "source": []
  }
 ],
 "metadata": {
  "colab": {
   "collapsed_sections": [
    "nQaL6dQ7jfk0",
    "LwqK2NyDudE8",
    "fZ4xsi2xupci",
    "On7oVtBHx1Qv",
    "jP-JGSl_zLAd",
    "Bclotpcv9-N7",
    "tbBWzhs9BKVA",
    "XZ8EuraSBVjk",
    "k6joC0h-f3i-",
    "hN38IaHfQDS2",
    "xX8vpUeZedZo",
    "lQX_qEiYuvm7",
    "m7zr1GqE1wdR",
    "EN_jvYf_XEgG",
    "XlhYJyva5Vqb",
    "jqgFLNdc5uig",
    "0jXQu5bK6axs"
   ],
   "provenance": []
  },
  "gpuClass": "standard",
  "kernelspec": {
   "display_name": "DS-ML-DL Env",
   "language": "python",
   "name": "python3"
  },
  "language_info": {
   "codemirror_mode": {
    "name": "ipython",
    "version": 3
   },
   "file_extension": ".py",
   "mimetype": "text/x-python",
   "name": "python",
   "nbconvert_exporter": "python",
   "pygments_lexer": "ipython3",
   "version": "3.9.13"
  }
 },
 "nbformat": 4,
 "nbformat_minor": 1
}
